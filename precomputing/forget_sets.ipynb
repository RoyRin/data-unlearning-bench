{
 "cells": [
  {
   "cell_type": "code",
   "execution_count": 379,
   "metadata": {},
   "outputs": [
    {
     "name": "stdout",
     "output_type": "stream",
     "text": [
      "/mnt/xfs/home/krisgrg/projects/unlearning-with-trak\n"
     ]
    }
   ],
   "source": [
    "%cd /mnt/xfs/home/krisgrg/projects/unlearning-with-trak/"
   ]
  },
  {
   "cell_type": "code",
   "execution_count": 380,
   "metadata": {},
   "outputs": [],
   "source": [
    "%reload_ext autoreload\n",
    "%autoreload 2"
   ]
  },
  {
   "cell_type": "code",
   "execution_count": 414,
   "metadata": {},
   "outputs": [],
   "source": [
    "import numpy as np\n",
    "import torch as ch\n",
    "import matplotlib.pyplot as plt\n",
    "from pathlib import Path"
   ]
  },
  {
   "cell_type": "markdown",
   "metadata": {},
   "source": [
    "# Make and save forget sets for CIFAR-10"
   ]
  },
  {
   "cell_type": "code",
   "execution_count": 403,
   "metadata": {},
   "outputs": [],
   "source": [
    "BASE_SAVE_PATH = Path(\"/mnt/xfs/projects/untrak/MATCHING/forget_set_inds/CIFAR10/\")\n",
    "BASE_SAVE_PATH.mkdir(exist_ok=True, parents=True)"
   ]
  },
  {
   "cell_type": "code",
   "execution_count": 404,
   "metadata": {},
   "outputs": [
    {
     "name": "stdout",
     "output_type": "stream",
     "text": [
      "Files already downloaded and verified\n"
     ]
    },
    {
     "data": {
      "image/png": "[encoded data removed]",
      "text/plain": [
       "<Figure size 150x150 with 1 Axes>"
      ]
     },
     "metadata": {},
     "output_type": "display_data"
    }
   ],
   "source": [
    "from unlearning.datasets.cifar10 import get_cifar_dataset\n",
    "train_data = get_cifar_dataset(split=\"train\", raw_imgs=True)\n",
    "\n",
    "def plot_image(dataset, index):\n",
    "    _, ax = plt.subplots(figsize=(1.5, 1.5))\n",
    "    ax.imshow(dataset[index][0])\n",
    "    ax.axis('off')\n",
    "    plt.show()\n",
    "\n",
    "plot_image(train_data, 2)"
   ]
  },
  {
   "cell_type": "code",
   "execution_count": 427,
   "metadata": {},
   "outputs": [
    {
     "data": {
      "text/plain": [
       "(10, 50000)"
      ]
     },
     "execution_count": 427,
     "metadata": {},
     "output_type": "execute_result"
    }
   ],
   "source": [
    "PCs = np.stack(ch.load('/mnt/xfs/home/krisgrg/projects/unlearning-with-trak/data/cifar10_PC_inds.pt'))\n",
    "PCs.shape"
   ]
  },
  {
   "cell_type": "markdown",
   "metadata": {},
   "source": [
    "### Random samples"
   ]
  },
  {
   "cell_type": "code",
   "execution_count": 438,
   "metadata": {},
   "outputs": [
    {
     "name": "stdout",
     "output_type": "stream",
     "text": [
      "[11841 12363 19602 25747 26128 30346 31902 32490 42642 45519]\n"
     ]
    }
   ],
   "source": [
    "# forget set 1\n",
    "np.random.seed(0)\n",
    "forget_set_1 = np.sort(np.random.choice(50_000, 10, replace=False))\n",
    "print(forget_set_1)\n",
    "np.save(BASE_SAVE_PATH / \"forget_set_1.npy\", forget_set_1)"
   ]
  },
  {
   "cell_type": "code",
   "execution_count": 439,
   "metadata": {},
   "outputs": [
    {
     "name": "stdout",
     "output_type": "stream",
     "text": [
      "[  766  1281  1892  2206  2600  2908  2953  3197  3624  3991  4949  5763\n",
      "  6072  6321  6756  7767  8038  8389  8590  9047  9613 10298 11314 11497\n",
      " 11606 11751 11841 11912 12196 12561 13784 14674 14716 15073 15190 15299\n",
      " 16668 16692 17501 18750 18783 19062 19298 19700 20642 20883 21375 22572\n",
      " 23082 23784 24290 24580 24747 24776 24904 25261 25573 25607 25735 25816\n",
      " 26247 26370 26652 26710 26772 27336 27558 27683 27939 29433 30620 31387\n",
      " 31916 32563 32634 33430 34217 34590 35067 36256 36772 37941 39205 39319\n",
      " 39508 39950 40301 40312 41309 41801 42250 43027 43113 43495 44174 45334\n",
      " 45649 48140 48427 49928]\n"
     ]
    }
   ],
   "source": [
    "# forget set 2\n",
    "np.random.seed(1)\n",
    "forget_set_2 = np.sort(np.random.choice(50_000, 100, replace=False))\n",
    "print(forget_set_2)\n",
    "np.save(BASE_SAVE_PATH / \"forget_set_2.npy\", forget_set_2)"
   ]
  },
  {
   "cell_type": "code",
   "execution_count": 450,
   "metadata": {},
   "outputs": [
    {
     "name": "stdout",
     "output_type": "stream",
     "text": [
      "(1000,)\n"
     ]
    }
   ],
   "source": [
    "# forget set 3\n",
    "np.random.seed(2)\n",
    "forget_set_3 = np.sort(np.random.choice(50_000, 1000, replace=False))\n",
    "print(forget_set_3.shape)\n",
    "np.save(BASE_SAVE_PATH / \"forget_set_3.npy\", forget_set_3)"
   ]
  },
  {
   "cell_type": "markdown",
   "metadata": {},
   "source": [
    "### Samples from PC1"
   ]
  },
  {
   "cell_type": "code",
   "execution_count": 441,
   "metadata": {},
   "outputs": [],
   "source": [
    "PC1 = PCs[0]"
   ]
  },
  {
   "cell_type": "code",
   "execution_count": 443,
   "metadata": {},
   "outputs": [
    {
     "name": "stdout",
     "output_type": "stream",
     "text": [
      "[ 3799  9235 22321 22908 23898 28510 29795 33079 45477 46715]\n"
     ]
    }
   ],
   "source": [
    "forget_set_4 = np.sort(PC1[:10])\n",
    "print(forget_set_4)\n",
    "np.save(BASE_SAVE_PATH / \"forget_set_4.npy\", forget_set_4)"
   ]
  },
  {
   "cell_type": "code",
   "execution_count": 444,
   "metadata": {},
   "outputs": [
    {
     "name": "stdout",
     "output_type": "stream",
     "text": [
      "[  305  1346  1538  2335  3799  4260  4956  5894  6873  7364  7398  7531\n",
      "  7726  8050  9196  9235  9377  9665  9999 10221 10482 12132 12300 14355\n",
      " 14667 15103 15602 16905 17306 17400 18014 18278 18512 18912 19222 19231\n",
      " 19285 19606 21191 21480 21502 22321 22487 22749 22876 22908 23369 23385\n",
      " 23898 23914 24637 25886 26388 28340 28510 28612 28726 28973 29242 29271\n",
      " 29712 29795 30156 30523 31017 31129 31781 31875 33079 33735 34516 35932\n",
      " 36319 36454 36871 37316 37471 37589 39645 39880 40004 40663 40800 42396\n",
      " 42731 43209 44581 45278 45477 46146 46264 46715 47482 47716 47729 48169\n",
      " 48980 49014 49316 49753]\n"
     ]
    }
   ],
   "source": [
    "forget_set_5 = np.sort(PC1[:100])\n",
    "print(forget_set_5)\n",
    "np.save(BASE_SAVE_PATH / \"forget_set_5.npy\", forget_set_5)"
   ]
  },
  {
   "cell_type": "code",
   "execution_count": 449,
   "metadata": {},
   "outputs": [
    {
     "name": "stdout",
     "output_type": "stream",
     "text": [
      "(500,)\n"
     ]
    }
   ],
   "source": [
    "forget_set_6 = np.sort(np.concatenate([PC1[:250], PC1[-250:]]))\n",
    "print(forget_set_6.shape)\n",
    "np.save(BASE_SAVE_PATH / \"forget_set_6.npy\", forget_set_6)"
   ]
  },
  {
   "cell_type": "markdown",
   "metadata": {},
   "source": [
    "### Samples from PC2"
   ]
  },
  {
   "cell_type": "code",
   "execution_count": 451,
   "metadata": {},
   "outputs": [],
   "source": [
    "PC2 = PCs[1]"
   ]
  },
  {
   "cell_type": "code",
   "execution_count": 452,
   "metadata": {},
   "outputs": [
    {
     "name": "stdout",
     "output_type": "stream",
     "text": [
      "[10231 11157 14072 21786 23868 33784 33982 36910 44380 47614]\n"
     ]
    }
   ],
   "source": [
    "forget_set_7 = np.sort(PC2[:10])\n",
    "print(forget_set_7)\n",
    "np.save(BASE_SAVE_PATH / \"forget_set_7.npy\", forget_set_7)"
   ]
  },
  {
   "cell_type": "code",
   "execution_count": 453,
   "metadata": {},
   "outputs": [
    {
     "name": "stdout",
     "output_type": "stream",
     "text": [
      "[ 1178  1322  1669  2157  2531  2714  2757  2845  2919  5018  5390  5562\n",
      "  6006  7170  8743  9601 10038 10231 10717 10827 11157 11865 12563 12715\n",
      " 12816 12950 12955 13000 13017 13577 13642 14072 14998 16213 16359 18968\n",
      " 19517 20428 20827 21375 21571 21609 21786 22447 22718 23868 24987 26227\n",
      " 27111 27340 27570 27581 27758 29186 29435 29700 29843 30566 30623 31654\n",
      " 31772 31986 32070 32254 32605 33444 33637 33784 33982 34409 34665 35859\n",
      " 36059 36910 37575 38357 38380 39427 39557 40349 40923 41504 41996 42123\n",
      " 42422 43437 43635 44132 44380 44401 44479 44511 44860 45577 47076 47315\n",
      " 47343 47614 49785 49971]\n"
     ]
    }
   ],
   "source": [
    "forget_set_8 = np.sort(PC2[:100])\n",
    "print(forget_set_8)\n",
    "np.save(BASE_SAVE_PATH / \"forget_set_8.npy\", forget_set_8)"
   ]
  },
  {
   "cell_type": "code",
   "execution_count": 454,
   "metadata": {},
   "outputs": [
    {
     "name": "stdout",
     "output_type": "stream",
     "text": [
      "(500,)\n"
     ]
    }
   ],
   "source": [
    "forget_set_9 = np.sort(np.concatenate([PC2[:250], PC2[-250:]]))\n",
    "print(forget_set_9.shape)\n",
    "np.save(BASE_SAVE_PATH / \"forget_set_9.npy\", forget_set_9)"
   ]
  }
 ],
 "metadata": {
  "kernelspec": {
   "display_name": "Python 3 (ipykernel)",
   "language": "python",
   "name": "python3"
  },
  "language_info": {
   "codemirror_mode": {
    "name": "ipython",
    "version": 3
   },
   "file_extension": ".py",
   "mimetype": "text/x-python",
   "name": "python",
   "nbconvert_exporter": "python",
   "pygments_lexer": "ipython3",
   "version": "3.9.18"
  }
 },
 "nbformat": 4,
 "nbformat_minor": 2
}
