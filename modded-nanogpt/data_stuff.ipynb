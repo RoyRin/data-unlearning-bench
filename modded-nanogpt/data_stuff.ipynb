{
 "cells": [
  {
   "cell_type": "code",
   "execution_count": 3,
   "metadata": {},
   "outputs": [],
   "source": [
    "!python data/cached_fineweb10B.py 8"
   ]
  },
  {
   "cell_type": "code",
   "execution_count": 4,
   "metadata": {},
   "outputs": [
    {
     "name": "stdout",
     "output_type": "stream",
     "text": [
      "695,992,320 tokens will be copied into the new file\n",
      "Wrote data/train_first_696M_tokens.bin (1392.0 MB)\n"
     ]
    }
   ],
   "source": [
    "import glob, array\n",
    "from pathlib import Path\n",
    "import torch                          # only used for fast host-side dtype conversion\n",
    "\n",
    "# ------------------------------------------------------------------\n",
    "# 1.  How many tokens do we need?\n",
    "# ------------------------------------------------------------------\n",
    "NUM_GPUS                 = 8\n",
    "GRADIENT_ACCUM_STEPS     = 1          # “no gradient accumulation”\n",
    "TRAIN_SEQ_LEN            = 48 * 1024  # 49 152\n",
    "NUM_ITERATIONS           = 1_770\n",
    "\n",
    "TOKENS_PER_STEP  = NUM_GPUS * TRAIN_SEQ_LEN // GRADIENT_ACCUM_STEPS\n",
    "TOKENS_NEEDED    = TOKENS_PER_STEP * NUM_ITERATIONS              # 695 992 320\n",
    "print(f\"{TOKENS_NEEDED:,} tokens will be copied into the new file\")\n",
    "\n",
    "# ------------------------------------------------------------------\n",
    "# 2.  Helper to load a shard (same logic as _load_data_shard in train_gpt.py)\n",
    "# ------------------------------------------------------------------\n",
    "MAGIC = 20240520\n",
    "VERSION = 1\n",
    "HEADER_LEN = 256                    # int32 words\n",
    "\n",
    "def load_shard(file: Path) -> torch.Tensor:\n",
    "    header = torch.from_file(str(file), False, HEADER_LEN, dtype=torch.int32)\n",
    "    assert header[0] == MAGIC and header[1] == VERSION, f\"Bad header in {file}\"\n",
    "    ntok = int(header[2])\n",
    "    with file.open(\"rb\", buffering=0) as f:\n",
    "        f.seek(HEADER_LEN * 4)\n",
    "        buf = torch.empty(ntok, dtype=torch.uint16, pin_memory=False)  # host RAM is fine\n",
    "        nread = f.readinto(buf.numpy())\n",
    "        assert nread == 2 * ntok, \"size mismatch\"\n",
    "    return buf\n",
    "\n",
    "# ------------------------------------------------------------------\n",
    "# 3.  Collect the first TOKENS_NEEDED tokens from the training shards\n",
    "# ------------------------------------------------------------------\n",
    "train_files = sorted(glob.glob(\"data/fineweb10B/fineweb_train_*.bin\"))\n",
    "assert train_files, \"no shards found\"\n",
    "\n",
    "tokens = torch.empty(TOKENS_NEEDED, dtype=torch.uint16)\n",
    "cursor = 0\n",
    "for file in train_files:\n",
    "    shard = load_shard(Path(file))\n",
    "    take = min(shard.numel(), TOKENS_NEEDED - cursor)\n",
    "    tokens[cursor:cursor+take] = shard[:take]\n",
    "    cursor += take\n",
    "    if cursor == TOKENS_NEEDED:\n",
    "        break\n",
    "assert cursor == TOKENS_NEEDED, \"ran out of data before hitting the target\"\n",
    "\n",
    "# ------------------------------------------------------------------\n",
    "# 4.  Write the new single-shard .bin file\n",
    "# ------------------------------------------------------------------\n",
    "out_path = Path(\"data/train_first_696M_tokens.bin\")\n",
    "out_path.parent.mkdir(parents=True, exist_ok=True)\n",
    "\n",
    "header = array.array(\"i\", [0]*HEADER_LEN)\n",
    "header[0] = MAGIC\n",
    "header[1] = VERSION\n",
    "header[2] = TOKENS_NEEDED           # claim the real token count\n",
    "\n",
    "with out_path.open(\"wb\") as f:\n",
    "    f.write(header.tobytes())\n",
    "    f.write(tokens.numpy().tobytes())\n",
    "print(f\"Wrote {out_path} ({out_path.stat().st_size/1e6:.1f} MB)\")"
   ]
  }
 ],
 "metadata": {
  "kernelspec": {
   "display_name": "Python 3 (ipykernel)",
   "language": "python",
   "name": "python3"
  },
  "language_info": {
   "codemirror_mode": {
    "name": "ipython",
    "version": 3
   },
   "file_extension": ".py",
   "mimetype": "text/x-python",
   "name": "python",
   "nbconvert_exporter": "python",
   "pygments_lexer": "ipython3",
   "version": "3.12.11"
  }
 },
 "nbformat": 4,
 "nbformat_minor": 2
}
